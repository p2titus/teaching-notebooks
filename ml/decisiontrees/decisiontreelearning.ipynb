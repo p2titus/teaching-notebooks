{
 "cells": [
  {
   "cell_type": "markdown",
   "id": "226fee93",
   "metadata": {},
   "source": [
    "# Decision Tree Learning\n",
    "\n",
    "Decision trees are a fairly simple model within machine learning. They have a wide variety of uses within classification, and are easily interpretable. However, the task of automatically learning a decision tree is a tricky one, and we shall explore some of the underlying theory in this notebook.\n",
    "\n",
    "A note to those following this notebook - by the very nature of this problem (specifically, that the task is *NP-Complete*), there is no one size fits all algorithm to this problem. There are many ways of generating solutions, as we will see below. What's important is to understand the theory behind these approaches, as this helps inform different ways of viewing the problem.\n",
    "\n",
    "However, we will first begin by motivating the problem in the first place."
   ]
  },
  {
   "cell_type": "markdown",
   "id": "8933f77e",
   "metadata": {},
   "source": [
    "## So what is a decision tree anyways?\n",
    "\n",
    "At its core, a decision tree is a series of decisions that a computer can use to classify some input data. The next decision can be dependent on the outcome of the previous decision. This makes a lot more sense if we look at a diagram of a decision tree, so we will do so now."
   ]
  },
  {
   "attachments": {
    "Decision_Tree.jpg": {
     "image/jpeg": "[encoded data removed]"
    }
   },
   "cell_type": "markdown",
   "id": "97cf9eb7",
   "metadata": {},
   "source": [
    "![Decision_Tree.jpg](attachment:Decision_Tree.jpg)"
   ]
  },
  {
   "cell_type": "markdown",
   "id": "c689fd14",
   "metadata": {},
   "source": [
    "Image courtesy of [Gilgoldm of Wikipedia](https://commons.wikimedia.org/wiki/File:Decision_Tree.jpg). Licensed under [CC A-SA 4.0](https://creativecommons.org/licenses/by-sa/4.0/deed.en)\n",
    "\n",
    "`sibsp` is the number of spouses or siblings aboard"
   ]
  },
  {
   "cell_type": "markdown",
   "id": "c0548d18",
   "metadata": {},
   "source": [
    "This is a decision tree giving the probabilities that a given passenger survived the sinking of the Titanic. This probability is broken down by several factors.\n",
    "\n",
    "### Definitions - a necessary evil\n",
    "\n",
    "From here, we use the following vocabulary:\n",
    "\n",
    "- *Node* - this is represented by a rectangle in the above diagram. The set of nodes is represented by $V$ (for *vertex*, a synonym for node)\n",
    "- *Edge* - a connection between two nodes. This is represented by a line in the above diagram. The set of edges is represented by $E$\n",
    "- *Graph* - a collection of nodes and edges between them. We represent a graph with $G$, and we say $G = (V, E)$. What's important here is that a graph consists of its nodes and edges; nothing more.\n",
    "\n",
    "On this framework of graphs, we introduce the following concepts\n",
    "\n",
    "- *Path* - a traversal from one node to another using edges in the graph\n",
    "- *Cycle* - a path where the first and last node are equivalent\n",
    "- *Tree* - a graph where there are no cycles\n",
    "\n",
    "Applying these two concepts to the graph above, we can see there is a path from age to sibsp. Equally, we can see there is also a path from gender to sibsp, as we can go from gender to age, then age to sibsp.\n",
    "\n",
    "We can see the graph is also a tree, as there is only one path between all nodes.\n",
    "\n",
    "### A decision tree, with more specific language\n",
    "A decision tree is a *tree* where each node represents a test. The edge to be traversed down is chosen based on the outcome of that test. Once the evaluation reaches a leaf node, the classification is returned from that leaf node.\n",
    "\n",
    "I expect the easiest way of understanding the concept of a decision tree is to look at diagrams, so I recommend you Google decision trees, search for images and reread the previous section once you have that informal understanding.\n",
    "\n"
   ]
  },
  {
   "cell_type": "markdown",
   "id": "46f41c7e",
   "metadata": {},
   "source": [
    "### Decision Trees in Machine Learning\n",
    "\n",
    "Decision Trees are commonly used in Machine Learning due to the model's simplicity and their human interpretability. Let's break down the importance of the latter briefly.\n",
    "\n",
    "As I'm sure you can imagine, a lot of Machine Learning models are complex. Many are complex enough that we are unable to assign interpretations to the value of their parameters, and must instead turn to more complex methods of analysis if we want to understand what exactly they're predicting. However, decision trees are not like this. As shown above, we can create a diagram that can be used to explicitly and simply describe the behaviour of the model once it's been trained on the input data. This is a huge upside, and should not be underestimated.\n",
    "\n",
    "However, with Machine Learning, we want to be able to automatically generate a decision tree from arbritrary input and output data (not least because that's what this notebook was about in the first place). We will soon see that, despite the model's simplicity, this is no easy feat."
   ]
  },
  {
   "cell_type": "markdown",
   "id": "e2296175",
   "metadata": {},
   "source": [
    "## Goal of Decision Tree Learning\n",
    "The goal is, quite simply, to construct an optimal decision tree. What does this mean?\n",
    "\n",
    "In this case, we define optimality as follows:\n",
    "\n",
    "\n",
    "\n",
    "\n",
    "A formal specification might look something like this:\n",
    "\n",
    "Given $(\\boldsymbol{x}, Y)$"
   ]
  },
  {
   "cell_type": "markdown",
   "id": "96e9f115",
   "metadata": {},
   "source": [
    "### NP-Completeness of Decision Tree Learning\n",
    "The problem of learning an optimal decision tree is known to be *NP-Complete*. We will not delve into the specifics of P, NP or Complexity theory here, but this result has the following implications:\n",
    "\n",
    "- There is no known algorithm for building an optimal decision tree that is guaranteed to run in tractable time."
   ]
  },
  {
   "cell_type": "markdown",
   "id": "f903455b",
   "metadata": {},
   "source": [
    "## Top Down Learning algorithms\n",
    "These algorithms all proceed in a greedy fashion. Given some function $f$ that calculates how optimal a set is, at each node $N$, we apply this function to various bipartitions of $N$ and select the optimal one. Below, we present various candidates for $f$"
   ]
  },
  {
   "cell_type": "markdown",
   "id": "66e92509",
   "metadata": {},
   "source": [
    "### Estimate of Positive Correctness\n",
    "\n",
    "This method is primarily used when correctly outweighing true positives outweighs correctly identifying true negatives.TP \n",
    "\n",
    "$$\n",
    "    f(N) = TP - FP\n",
    "$$"
   ]
  },
  {
   "cell_type": "markdown",
   "id": "33740c88",
   "metadata": {},
   "source": [
    "### Variance Reduction\n",
    "This method can be applied to continuous $y$ also.\n",
    "\n",
    "Take $S$ to be the sample at the current node. Take $S_a$ and $S_b$ to be the bipartition of $S$ i.e. $S = S_a \\cup S_b \\wedge S_a \\cap S_b = \\emptyset$.\n",
    "\n",
    "We define $f$ as follows:\n",
    "\n",
    "$$\n",
    "f(S) = \\text{Var}(S) - \\text{Var}(\\frac{|S_a|}{|S|}S) - \\text{Var}(\\frac{|S_b|}{|S|}S)\n",
    "$$\n",
    "\n",
    "We can expand this to something a bit more complex. However, I've not done this yet.\n",
    "\n",
    "A tip for those who want to:\n",
    "\n",
    "$$\n",
    "\\text{Var}(aX + b) = a^2 \\text{Var}(X)\n",
    "$$\n"
   ]
  },
  {
   "cell_type": "code",
   "execution_count": null,
   "id": "4d8ab26f",
   "metadata": {},
   "outputs": [],
   "source": []
  }
 ],
 "metadata": {
  "kernelspec": {
   "display_name": "Python 3 (ipykernel)",
   "language": "python",
   "name": "python3"
  },
  "language_info": {
   "codemirror_mode": {
    "name": "ipython",
    "version": 3
   },
   "file_extension": ".py",
   "mimetype": "text/x-python",
   "name": "python",
   "nbconvert_exporter": "python",
   "pygments_lexer": "ipython3",
   "version": "3.8.10"
  }
 },
 "nbformat": 4,
 "nbformat_minor": 5
}
