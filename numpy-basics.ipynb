{
 "cells": [
  {
   "cell_type": "code",
   "execution_count": 1,
   "id": "ba79c9ad",
   "metadata": {},
   "outputs": [],
   "source": [
    "import numpy as np"
   ]
  },
  {
   "cell_type": "markdown",
   "id": "431f8d8b",
   "metadata": {},
   "source": [
    "# NumPy basics\n",
    "\n",
    "So, you've just started a machine learning course. Perhaps you've never programmed before or perhaps you've programmed in some other language (like MatLab...yuck). Or maybe you're just interested in trying out some ML in Python. Either way, `NumPy` is an invaluable tool in any practitioner's arsenal.\n",
    "\n",
    "## So what is `NumPy` anyways?\n",
    "`NumPy` (short for **Num**erical **Py**thon) is a Python library used to perform linear algebra operations quickly and consisely. \n",
    "\n",
    "A *library* is a piece of code written by someone else that you can use in your program. Libraries are usually used by calling *functions*, which take parameters and return values based on the values of the parameters. One advantage of this is so-called *abstraction*, where we don't need to worry about how the library works, so long as it works correctly.\n",
    "\n",
    "`NumPy` works on a central object - the **array**. An array can be thought of as a list of fixed size, that contains data of a particular *type*. For our purposes, we will consider only consider numerical types i.e. `int` and `float`. `NumPy` also provides functions for efficient vector and matrix operations on these arrays. For our purposes, we don't need to know _why_ they're efficient; it suffices to know that they are. However, if you're interested in the why, please see the bonus sections at the end of the notebook.\n",
    "\n",
    "Throughout this notebook, there will be examples. The examples aren't comprehensive, and it's not necessary to memorise all the examples. Sometimes several examples will show how to do the same thing but in a slightly different way each time. What's important is to understand why these steps are being performed. If it's unclear, please shoot me an email or raise a GitHub issue. \n",
    "\n",
    "### Documentation\n",
    "It is important to stress throughout this that precious few people will know everything to know about `NumPy`, or indeed any library. As such, the developers helpfully provide documentation, which can be found [here](https://numpy.org/doc/stable/). The API reference can be found [here](https://numpy.org/doc/stable/reference/index.html#reference) and will be more useful if you have a specific question you need answering. The ability to read documentation well and to be able to quickly locate relevant information is a skill well worth developing, and I encourage you to use the docs to hone this. \n",
    "\n",
    "If you don't know something or have a specific question, your best bet is to search the documentation.\n",
    "\n",
    "## Initialising arrays\n",
    "Okay, let's take a look at some simple `NumPy` procedures. We start by initialising some arrays. The minimum amount of information needed to initialise an array is its size. \n",
    "\n",
    "This code initialises an array containing only zeroes. This array has a fixed length of 5."
   ]
  },
  {
   "cell_type": "code",
   "execution_count": 2,
   "id": "db2ed345",
   "metadata": {},
   "outputs": [
    {
     "data": {
      "text/plain": [
       "array([0., 0., 0., 0., 0.])"
      ]
     },
     "execution_count": 2,
     "metadata": {},
     "output_type": "execute_result"
    }
   ],
   "source": [
    "xs = np.zeros(5)\n",
    "xs"
   ]
  },
  {
   "cell_type": "markdown",
   "id": "b31d8729",
   "metadata": {},
   "source": [
    "We can do the same with ones."
   ]
  },
  {
   "cell_type": "code",
   "execution_count": 9,
   "id": "610b37a9",
   "metadata": {},
   "outputs": [
    {
     "data": {
      "text/plain": [
       "array([1., 1., 1., 1., 1.])"
      ]
     },
     "execution_count": 9,
     "metadata": {},
     "output_type": "execute_result"
    }
   ],
   "source": [
    "xs = np.ones(5)\n",
    "xs"
   ]
  },
  {
   "cell_type": "markdown",
   "id": "65ec9fd5",
   "metadata": {},
   "source": [
    "We can even just initialise the array without filling it with data. This is more efficient than previous methods, but may result in an array that initially contains random data."
   ]
  },
  {
   "cell_type": "code",
   "execution_count": 10,
   "id": "64f5998f",
   "metadata": {},
   "outputs": [
    {
     "data": {
      "text/plain": [
       "array([1., 1., 1., 1., 1.])"
      ]
     },
     "execution_count": 10,
     "metadata": {},
     "output_type": "execute_result"
    }
   ],
   "source": [
    "xs = np.empty(5)\n",
    "xs"
   ]
  },
  {
   "cell_type": "markdown",
   "id": "ae6e180d",
   "metadata": {},
   "source": [
    "In this case, it contains the contents of the previous array initialisation. This is **not** a coincidence - those interested in the why can read the first bonus section at the end of the notebook."
   ]
  },
  {
   "cell_type": "markdown",
   "id": "dcb5fef0",
   "metadata": {},
   "source": [
    "Arrays are also zero-indexed (just like lists). As such, we can access positions 0-4, but not 5.\n",
    "\n",
    "Remember, arrays are of a fixed length. As such, if we know the data _a priori_ (beforehand), we can declare the array as follows"
   ]
  },
  {
   "cell_type": "code",
   "execution_count": 3,
   "id": "2ed91419",
   "metadata": {},
   "outputs": [
    {
     "data": {
      "text/plain": [
       "array([1, 4, 3, 0, 7])"
      ]
     },
     "execution_count": 3,
     "metadata": {},
     "output_type": "execute_result"
    }
   ],
   "source": [
    "xs = [1,4,3,0,7]\n",
    "ys = np.array(xs)\n",
    "ys"
   ]
  },
  {
   "cell_type": "markdown",
   "id": "cbf2d901",
   "metadata": {},
   "source": [
    "## Using arrays as glorified lists\n",
    "We can use arrays in much the same way as lists. In general, you will want to avoid doing this, but as with anything in programming, you will sometimes need this fine grained control.\n",
    "\n",
    "Let's see how to access elements"
   ]
  },
  {
   "cell_type": "code",
   "execution_count": 11,
   "id": "039dcfc8",
   "metadata": {},
   "outputs": [
    {
     "data": {
      "text/plain": [
       "(1, 4, 3, 0, 7)"
      ]
     },
     "execution_count": 11,
     "metadata": {},
     "output_type": "execute_result"
    }
   ],
   "source": [
    "xs = [1, 4, 3, 0, 7]\n",
    "ys = np.array(xs)\n",
    "ys[0], ys[1], ys[2], ys[3], ys[4]"
   ]
  },
  {
   "cell_type": "markdown",
   "id": "c4dbf39f",
   "metadata": {},
   "source": [
    "We now know we can access arrays by element. However, if we want to be able to iterate over arrays by position, we need to know when to stop.\n",
    "\n",
    "To do this, `NumPy` has several methods:\n",
    "\n",
    "- `ndim` gives the number of dimensions of the array\n",
    "- `size` gives the total number of elements of the array\n",
    "- `shape` returns a tuple containing the length of each dimension of the array\n",
    "\n",
    "Let's demonstrate this below"
   ]
  },
  {
   "cell_type": "code",
   "execution_count": 13,
   "id": "781a9d80",
   "metadata": {},
   "outputs": [],
   "source": [
    "xs = np.zeros([5,3,2])\n",
    "assert 3 == xs.ndim, \"Wrong dimension: %d\" % xs.ndim\n",
    "assert 5*3*2 == xs.size, \"Wrong size: %d\" % xs.size\n",
    "assert (5, 3, 2) == xs.shape, \"Wrong shape: %s\" % str(xs.shape)"
   ]
  },
  {
   "cell_type": "markdown",
   "id": "2238e18d",
   "metadata": {},
   "source": [
    "The above code also makes use of a useful new construct: **assertions**. An assertion will not do anything if the expression on the left evaluates to `True`. If the left hand expression evaluates to `False`, then the assertion will throw an exception containing the message on the right hand side. Asserti"
   ]
  },
  {
   "cell_type": "markdown",
   "id": "4989f049",
   "metadata": {},
   "source": [
    "## Where does Linear Algebra come in?\n",
    "Despite what it looks like, you've already seen some examples of vectors and matrices. `NumPy` uses a single dimensional array to represent a vector, and a two dimensional array to represent a matrix. We can do operations on them like follows."
   ]
  },
  {
   "cell_type": "code",
   "execution_count": 4,
   "id": "1a9df85a",
   "metadata": {},
   "outputs": [
    {
     "data": {
      "text/plain": [
       "92.5"
      ]
     },
     "execution_count": 4,
     "metadata": {},
     "output_type": "execute_result"
    }
   ],
   "source": [
    "xs = np.linspace(0, 10, 5, endpoint=True)\n",
    "ys = np.array([1,3,4,2,5])\n",
    "\n",
    "xs@ys"
   ]
  },
  {
   "cell_type": "markdown",
   "id": "c9bf1851",
   "metadata": {},
   "source": [
    "## Bonus 1 - why are arrays blazing quick?\n",
    "Okay, strap yourself in for a quick computer architecture lesson.\n",
    "\n",
    "We need to break this question down into two parts:\n",
    "\n",
    "- Quick in comparison to what?\n",
    "- Why are they quick in comparison to this other structure?\n",
    "\n",
    "We will deal with each point in turn\n",
    "\n",
    "### What are `NumPy` arrays quick in comparison to?\n",
    "\n",
    "To the first point, `NumPy` arrays are quick in comparison to Python lists. They're probably quicker than most other Python datastructures also. However, lists have no fixed size, and can hold objects of several different types. The list's flexibility makes them very useful in a language like Python, and lists will be acceptable for most cases the average programmer will come across. However, when it comes to computationally intensive calculations, such as those found in machine learning, Python's list doesn't cut it any more.\n",
    "\n",
    "\n",
    "### Bonus bonus - how much quicker are `NumPy` arrays\n",
    "Let's do some practical tests"
   ]
  },
  {
   "cell_type": "code",
   "execution_count": null,
   "id": "e99b141a",
   "metadata": {},
   "outputs": [],
   "source": []
  }
 ],
 "metadata": {
  "kernelspec": {
   "display_name": "Python 3 (ipykernel)",
   "language": "python",
   "name": "python3"
  },
  "language_info": {
   "codemirror_mode": {
    "name": "ipython",
    "version": 3
   },
   "file_extension": ".py",
   "mimetype": "text/x-python",
   "name": "python",
   "nbconvert_exporter": "python",
   "pygments_lexer": "ipython3",
   "version": "3.8.10"
  }
 },
 "nbformat": 4,
 "nbformat_minor": 5
}
