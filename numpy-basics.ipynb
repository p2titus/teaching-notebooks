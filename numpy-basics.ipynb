{
 "cells": [
  {
   "cell_type": "code",
   "execution_count": 1,
   "id": "7edcbfc6",
   "metadata": {},
   "outputs": [],
   "source": [
    "import numpy as np"
   ]
  },
  {
   "cell_type": "markdown",
   "id": "faef07e6",
   "metadata": {},
   "source": [
    "# NumPy basics\n",
    "\n",
    "So, you've just started a machine learning course. Perhaps you've never programmed before or perhaps you've programmed in some other language (like MatLab...yuck). Or maybe you're just interested in trying out some ML in Python. Either way, `NumPy` is an invaluable tool in any practitioner's arsenal.\n",
    "\n",
    "## So what is `NumPy` anyways?\n",
    "`NumPy` (short for **Num**erical **Py**thon) is a Python library used to perform linear algebra operations quickly and consisely. \n",
    "\n",
    "A *library* is a piece of code written by someone else that you can use in your program. Libraries are usually used by calling *functions*, which take parameters and return values based on the values of the parameters. One advantage of this is so-called *abstraction*, where we don't need to worry about how the library works, so long as it works correctly.\n",
    "\n",
    "`NumPy` works on a central object - the **array**. An array can be thought of as a list of fixed size, that contains data of a particular *type*. For our purposes, we will consider only consider numerical types i.e. `int` and `float`. `NumPy` also provides functions for efficient vector and matrix operations on these arrays. For our purposes, we don't need to know _why_ they're efficient; it suffices to know that they are. However, if you're interested in the why, please see the bonus sections at the end of the notebook.\n",
    "\n",
    "### Documentation\n",
    "It is important to stress throughout this that precious few people will know everything to know about `NumPy`, or indeed any library. As such, the developers helpfully provide documentation, which can be found [here](https://numpy.org/doc/stable/). The API reference can be found [here](https://numpy.org/doc/stable/reference/index.html#reference) and will be more useful if you have a specific question you need answering. The ability to read documentation well and to be able to quickly locate relevant information is a skill well worth developing, and I encourage you to use the docs to hone this. \n",
    "\n",
    "If you don't know something or have a specific question, your best bet is to search the documentation.\n",
    "\n",
    "## Initialising arrays\n",
    "Okay, let's take a look at some simple `NumPy` procedures. We start by initialising some arrays.\n",
    "\n",
    "This code initialises an array containing only zeroes. This array has a fixed length of 5."
   ]
  },
  {
   "cell_type": "code",
   "execution_count": 5,
   "id": "705aa8a6",
   "metadata": {},
   "outputs": [
    {
     "data": {
      "text/plain": [
       "array([0., 0., 0., 0., 0.])"
      ]
     },
     "execution_count": 5,
     "metadata": {},
     "output_type": "execute_result"
    }
   ],
   "source": [
    "xs = np.zeros(5)\n",
    "xs"
   ]
  },
  {
   "cell_type": "markdown",
   "id": "4bb1ee53",
   "metadata": {},
   "source": [
    "## Where does Linear Algebra come in?\n",
    "Despite what it looks like, you've already seen some examples of vectors and matrices. `NumPy` uses a single dimensional array to represent a vector, and a two dimensional array to represent a matrix. We can do operations on them like follows"
   ]
  },
  {
   "cell_type": "markdown",
   "id": "b3d9315c",
   "metadata": {},
   "source": [
    "## Bonus 1 - why are arrays blazing quick?\n",
    "Okay, strap yourself in for a quick computer architecture lesson.\n",
    "\n",
    "We need to break this question down into two parts:\n",
    "\n",
    "- Quick in comparison to what?\n",
    "- Why are they quick in comparison to this other structure?\n",
    "\n",
    "To the first point, `NumPy` arrays are quick in comparison to Python lists. In reality, they're probably quicker than most other Python datastructures also. However, lists have no fixed size, and can hold objects of several different types. The list's flexibility makes them very useful in a language like Python, and lists will be acceptable for most cases the average programmer will come across.\n"
   ]
  },
  {
   "cell_type": "code",
   "execution_count": null,
   "id": "0e31dc8a",
   "metadata": {},
   "outputs": [],
   "source": []
  }
 ],
 "metadata": {
  "kernelspec": {
   "display_name": "Python 3 (ipykernel)",
   "language": "python",
   "name": "python3"
  },
  "language_info": {
   "codemirror_mode": {
    "name": "ipython",
    "version": 3
   },
   "file_extension": ".py",
   "mimetype": "text/x-python",
   "name": "python",
   "nbconvert_exporter": "python",
   "pygments_lexer": "ipython3",
   "version": "3.8.10"
  }
 },
 "nbformat": 4,
 "nbformat_minor": 5
}
