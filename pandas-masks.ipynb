{
 "cells": [
  {
   "cell_type": "code",
   "execution_count": 1,
   "id": "35ec9de6",
   "metadata": {},
   "outputs": [],
   "source": [
    "import pandas as pd\n",
    "import seaborn as sns"
   ]
  },
  {
   "cell_type": "markdown",
   "id": "9a1aec05",
   "metadata": {},
   "source": [
    "# Pandas and masks\n",
    "\n",
    "I'm a little concerned I didn't explain masks and how Pandas filters columns that well the other day. So I've made a notebook to try and explain them a little better.\n",
    "\n",
    "## A small history and context of Python\n",
    "[Python](https://en.wikipedia.org/wiki/Python_(programming_language)) is a general purpose programming language conceived in the late 1980s by Guido van Rossum. It has [20 guiding principles](https://peps.python.org/pep-0020/). Python is an [interpreted language](https://en.wikipedia.org/wiki/Interpreter_(computing)), meaning an *interpreter* only translates source code to machine code at runtime (when the program is being run). This constrasts with a [compiled language](https://en.wikipedia.org/wiki/Compiler), where this translation happens statically at compile time, prior to code being run.\n",
    "\n",
    "Examples of interpreted languages include Python and JavaScript. Examples of compiled languages include C, C++, Rust and Ocaml. There are many languages of each type - too many to list in this notebook.\n",
    "\n",
    "Of probable use, but unrelated to this notebook, is [PEP8](https://peps.python.org/pep-0008/), a style guide to Python code. Following this should help increase the readability of your code.\n",
    "\n",
    "## A brief introduction to Types\n",
    "Most programming languages have the concept of a *type*. More formally, a *type* is a set of rules dictating what an expression can and cannot do. Less formally, a *type* is some information about expressions that another program can use to judge whether a program makes sense. We will expand on these notions presently.\n",
    "\n",
    "Informally, we can agree that members of the following sets are different:\n",
    "\n",
    "$$\n",
    "\\begin{align}\n",
    "\\mathbb{R}\\\\\n",
    "\\mathbb{R}\\times\\mathbb{R}\n",
    "\\end{align}\n",
    "$$\n",
    "\n",
    "The operation $(2, 3) + 7$ makes no sense. Similarly, $x + (y, z)$ has no obvious definition. A definition of $+$ could be constructed, but there is no obvious definition.\n",
    "\n",
    "Similarly, consider the following (Python) function definition"
   ]
  },
  {
   "cell_type": "code",
   "execution_count": 2,
   "id": "89a41ae2",
   "metadata": {},
   "outputs": [],
   "source": [
    "def add(x, y):\n",
    "    return x + y"
   ]
  },
  {
   "cell_type": "markdown",
   "id": "27a032b4",
   "metadata": {},
   "source": [
    "$x+y$ makes sense if both $x$ and $y$ are numbers, but if $x$ is a number and $y$ is a string, then this makes little sense. You could do an *implicit* conversion, where the language made the conversion silently, but this might not be desirable.\n",
    "\n",
    "Some languages include extra type annotations to allow for these judgements to be made before the program is run. These may look something like this:"
   ]
  },
  {
   "cell_type": "code",
   "execution_count": 3,
   "id": "7bb2af84",
   "metadata": {},
   "outputs": [],
   "source": [
    "def add(x: int, y: int) -> int:\n",
    "    return x + y"
   ]
  },
  {
   "cell_type": "markdown",
   "id": "f9ee2649",
   "metadata": {},
   "source": [
    "In Python, this is legal syntax but they aren't checked by the computer at all. In a different language, they can be subject to very powerful checks that ensure your program 'makes sense' before code is run. For example, if the checks were to come across"
   ]
  },
  {
   "cell_type": "code",
   "execution_count": 4,
   "id": "4654587e",
   "metadata": {},
   "outputs": [
    {
     "ename": "TypeError",
     "evalue": "unsupported operand type(s) for +: 'int' and 'str'",
     "output_type": "error",
     "traceback": [
      "\u001b[0;31m---------------------------------------------------------------------------\u001b[0m",
      "\u001b[0;31mTypeError\u001b[0m                                 Traceback (most recent call last)",
      "Input \u001b[0;32mIn [4]\u001b[0m, in \u001b[0;36m<cell line: 1>\u001b[0;34m()\u001b[0m\n\u001b[0;32m----> 1\u001b[0m \u001b[43madd\u001b[49m\u001b[43m(\u001b[49m\u001b[38;5;241;43m5\u001b[39;49m\u001b[43m,\u001b[49m\u001b[43m \u001b[49m\u001b[38;5;124;43m\"\u001b[39;49m\u001b[38;5;124;43mhello\u001b[39;49m\u001b[38;5;124;43m\"\u001b[39;49m\u001b[43m)\u001b[49m\n",
      "Input \u001b[0;32mIn [3]\u001b[0m, in \u001b[0;36madd\u001b[0;34m(x, y)\u001b[0m\n\u001b[1;32m      1\u001b[0m \u001b[38;5;28;01mdef\u001b[39;00m \u001b[38;5;21madd\u001b[39m(x: \u001b[38;5;28mint\u001b[39m, y: \u001b[38;5;28mint\u001b[39m) \u001b[38;5;241m-\u001b[39m\u001b[38;5;241m>\u001b[39m \u001b[38;5;28mint\u001b[39m:\n\u001b[0;32m----> 2\u001b[0m     \u001b[38;5;28;01mreturn\u001b[39;00m \u001b[43mx\u001b[49m\u001b[43m \u001b[49m\u001b[38;5;241;43m+\u001b[39;49m\u001b[43m \u001b[49m\u001b[43my\u001b[49m\n",
      "\u001b[0;31mTypeError\u001b[0m: unsupported operand type(s) for +: 'int' and 'str'"
     ]
    }
   ],
   "source": [
    "add(5, \"hello\")"
   ]
  },
  {
   "cell_type": "markdown",
   "id": "afe7e2bd",
   "metadata": {},
   "source": [
    "then they could flag up that this didn't make sense and alert the programmer. Conversely, the checks wouldn't flag"
   ]
  },
  {
   "cell_type": "code",
   "execution_count": null,
   "id": "1b537790",
   "metadata": {},
   "outputs": [],
   "source": [
    "add(5, 7)"
   ]
  },
  {
   "cell_type": "markdown",
   "id": "dae670f8",
   "metadata": {},
   "source": [
    "because this 'makes sense.'\n",
    "\n",
    "Types are a very powerful aid to the programmer, and I think any piece of software worth its salt uses a language with a strong type checker. However, I don't make the budgeting decisions around here, so my opinion means very little.\n",
    "\n",
    "## Python and Types\n",
    "Python uses what is called [duck typing](https://en.wikipedia.org/wiki/Python_(programming_language)#Typing). You've definitely heard me say 'if it looks like a duck, and quacks like a duck, then it probably is a duck.' In practice, this means if an object has all methods required by a type, then it can act as a member of that type.\n",
    "\n",
    "Python is dynamically typed. This means there are no compile time checks, which means the first time you could know about a type error is when your code crashes in production from an unexpected input. How frustrating. This also means the type of things can change in hard-to-predict ways during program execution. This can be an issue, but is often fine if you remain disciplined with your programs. Something Python's syntax and style guides can help you achieve.\n",
    "\n",
    "Contrary to all I've said previously, Python *is* strongly typed. This means if it comes across an operation that doesn't make sense (like trying to add a number to a word), it won't silently try to make sense of the expression. It will just crash. This is *extremely* frustrating when dealing with large programs, which could often use a computer sense checking everything. By and large, strong typing is probably the better choice to make, not least because of the insanity that lies down weak typing. See JavaScript, where weak equality is *not* transitive (i.e. a == b and b == c does not necessarily mean that a == c) and expressions can sometimes behave differently depending on the type of the first variable. I'm getting worked up just typing (haha) about it. \n",
    "\n",
    "However, all this ducktyping guff without static checks does mean that, in well written libraries, Python *just works*. This is huge, and I can't stress how nice a feature of the language this is. I've never had such a welcoming and easy to pick up experience as Python, and the type system probably plays a huge, understated part in that.\n",
    "\n",
    "Some key types in Python include **bool**, **int**, **float**, **str** and **tuple**.\n",
    "\n",
    "## Pandas DataFrames\n",
    "A Pandas DataFrame is a data structure containing information about some data. Often `read_csv` or `read_sql` is used to read data to the DataFrame. A crucial difference between a DataFrame and the `csv` file is that the DataFrame is held in RAM, whereas the `csv` is held in secondary storage (e.g. on the hard drive). Holding the data in RAM means its much quicker to perform operations on, but RAM loses data once turned off, whilst secondary storage does not.\n",
    "\n",
    "A Pandas DataFrame has column names and an index. The index is numerical and starts at 0,\n",
    "\n",
    "Let's load an example dataset. This one is called Iris, and it was an dataset used for training and testing early machine learning algorithms."
   ]
  },
  {
   "cell_type": "code",
   "execution_count": 5,
   "id": "f5d622bb",
   "metadata": {},
   "outputs": [
    {
     "data": {
      "text/html": [
       "<div>\n",
       "<style scoped>\n",
       "    .dataframe tbody tr th:only-of-type {\n",
       "        vertical-align: middle;\n",
       "    }\n",
       "\n",
       "    .dataframe tbody tr th {\n",
       "        vertical-align: top;\n",
       "    }\n",
       "\n",
       "    .dataframe thead th {\n",
       "        text-align: right;\n",
       "    }\n",
       "</style>\n",
       "<table border=\"1\" class=\"dataframe\">\n",
       "  <thead>\n",
       "    <tr style=\"text-align: right;\">\n",
       "      <th></th>\n",
       "      <th>sepal_length</th>\n",
       "      <th>sepal_width</th>\n",
       "      <th>petal_length</th>\n",
       "      <th>petal_width</th>\n",
       "      <th>species</th>\n",
       "    </tr>\n",
       "  </thead>\n",
       "  <tbody>\n",
       "    <tr>\n",
       "      <th>0</th>\n",
       "      <td>5.1</td>\n",
       "      <td>3.5</td>\n",
       "      <td>1.4</td>\n",
       "      <td>0.2</td>\n",
       "      <td>setosa</td>\n",
       "    </tr>\n",
       "    <tr>\n",
       "      <th>1</th>\n",
       "      <td>4.9</td>\n",
       "      <td>3.0</td>\n",
       "      <td>1.4</td>\n",
       "      <td>0.2</td>\n",
       "      <td>setosa</td>\n",
       "    </tr>\n",
       "    <tr>\n",
       "      <th>2</th>\n",
       "      <td>4.7</td>\n",
       "      <td>3.2</td>\n",
       "      <td>1.3</td>\n",
       "      <td>0.2</td>\n",
       "      <td>setosa</td>\n",
       "    </tr>\n",
       "    <tr>\n",
       "      <th>3</th>\n",
       "      <td>4.6</td>\n",
       "      <td>3.1</td>\n",
       "      <td>1.5</td>\n",
       "      <td>0.2</td>\n",
       "      <td>setosa</td>\n",
       "    </tr>\n",
       "    <tr>\n",
       "      <th>4</th>\n",
       "      <td>5.0</td>\n",
       "      <td>3.6</td>\n",
       "      <td>1.4</td>\n",
       "      <td>0.2</td>\n",
       "      <td>setosa</td>\n",
       "    </tr>\n",
       "  </tbody>\n",
       "</table>\n",
       "</div>"
      ],
      "text/plain": [
       "   sepal_length  sepal_width  petal_length  petal_width species\n",
       "0           5.1          3.5           1.4          0.2  setosa\n",
       "1           4.9          3.0           1.4          0.2  setosa\n",
       "2           4.7          3.2           1.3          0.2  setosa\n",
       "3           4.6          3.1           1.5          0.2  setosa\n",
       "4           5.0          3.6           1.4          0.2  setosa"
      ]
     },
     "execution_count": 5,
     "metadata": {},
     "output_type": "execute_result"
    }
   ],
   "source": [
    "iris = sns.load_dataset('iris')\n",
    "iris.head()"
   ]
  },
  {
   "cell_type": "markdown",
   "id": "ceadf76d",
   "metadata": {},
   "source": [
    "We can generate summary statistics by "
   ]
  },
  {
   "cell_type": "code",
   "execution_count": 7,
   "id": "6d74acc5",
   "metadata": {},
   "outputs": [
    {
     "data": {
      "text/html": [
       "<div>\n",
       "<style scoped>\n",
       "    .dataframe tbody tr th:only-of-type {\n",
       "        vertical-align: middle;\n",
       "    }\n",
       "\n",
       "    .dataframe tbody tr th {\n",
       "        vertical-align: top;\n",
       "    }\n",
       "\n",
       "    .dataframe thead th {\n",
       "        text-align: right;\n",
       "    }\n",
       "</style>\n",
       "<table border=\"1\" class=\"dataframe\">\n",
       "  <thead>\n",
       "    <tr style=\"text-align: right;\">\n",
       "      <th></th>\n",
       "      <th>sepal_length</th>\n",
       "      <th>sepal_width</th>\n",
       "      <th>petal_length</th>\n",
       "      <th>petal_width</th>\n",
       "    </tr>\n",
       "  </thead>\n",
       "  <tbody>\n",
       "    <tr>\n",
       "      <th>count</th>\n",
       "      <td>150.000000</td>\n",
       "      <td>150.000000</td>\n",
       "      <td>150.000000</td>\n",
       "      <td>150.000000</td>\n",
       "    </tr>\n",
       "    <tr>\n",
       "      <th>mean</th>\n",
       "      <td>5.843333</td>\n",
       "      <td>3.057333</td>\n",
       "      <td>3.758000</td>\n",
       "      <td>1.199333</td>\n",
       "    </tr>\n",
       "    <tr>\n",
       "      <th>std</th>\n",
       "      <td>0.828066</td>\n",
       "      <td>0.435866</td>\n",
       "      <td>1.765298</td>\n",
       "      <td>0.762238</td>\n",
       "    </tr>\n",
       "    <tr>\n",
       "      <th>min</th>\n",
       "      <td>4.300000</td>\n",
       "      <td>2.000000</td>\n",
       "      <td>1.000000</td>\n",
       "      <td>0.100000</td>\n",
       "    </tr>\n",
       "    <tr>\n",
       "      <th>25%</th>\n",
       "      <td>5.100000</td>\n",
       "      <td>2.800000</td>\n",
       "      <td>1.600000</td>\n",
       "      <td>0.300000</td>\n",
       "    </tr>\n",
       "    <tr>\n",
       "      <th>50%</th>\n",
       "      <td>5.800000</td>\n",
       "      <td>3.000000</td>\n",
       "      <td>4.350000</td>\n",
       "      <td>1.300000</td>\n",
       "    </tr>\n",
       "    <tr>\n",
       "      <th>75%</th>\n",
       "      <td>6.400000</td>\n",
       "      <td>3.300000</td>\n",
       "      <td>5.100000</td>\n",
       "      <td>1.800000</td>\n",
       "    </tr>\n",
       "    <tr>\n",
       "      <th>max</th>\n",
       "      <td>7.900000</td>\n",
       "      <td>4.400000</td>\n",
       "      <td>6.900000</td>\n",
       "      <td>2.500000</td>\n",
       "    </tr>\n",
       "  </tbody>\n",
       "</table>\n",
       "</div>"
      ],
      "text/plain": [
       "       sepal_length  sepal_width  petal_length  petal_width\n",
       "count    150.000000   150.000000    150.000000   150.000000\n",
       "mean       5.843333     3.057333      3.758000     1.199333\n",
       "std        0.828066     0.435866      1.765298     0.762238\n",
       "min        4.300000     2.000000      1.000000     0.100000\n",
       "25%        5.100000     2.800000      1.600000     0.300000\n",
       "50%        5.800000     3.000000      4.350000     1.300000\n",
       "75%        6.400000     3.300000      5.100000     1.800000\n",
       "max        7.900000     4.400000      6.900000     2.500000"
      ]
     },
     "execution_count": 7,
     "metadata": {},
     "output_type": "execute_result"
    }
   ],
   "source": [
    "iris.describe()"
   ]
  },
  {
   "cell_type": "markdown",
   "id": "3a323a34",
   "metadata": {},
   "source": [
    "However, we're focusing on a particular aspect of Pandas dataframes here.\n",
    "\n",
    "### Pandas wearing masks\n",
    "A *mask* in Pandas is a boolean series used to filter a dataframe to specific entries. A mask can either be applied across rows, or across columns. Examples of masks include"
   ]
  },
  {
   "cell_type": "code",
   "execution_count": 8,
   "id": "ae25f90d",
   "metadata": {},
   "outputs": [
    {
     "data": {
      "text/plain": [
       "0      0.2\n",
       "1      0.2\n",
       "2      0.2\n",
       "3      0.2\n",
       "4      0.2\n",
       "      ... \n",
       "145    2.3\n",
       "146    1.9\n",
       "147    2.0\n",
       "148    2.3\n",
       "149    1.8\n",
       "Name: petal_width, Length: 150, dtype: float64"
      ]
     },
     "execution_count": 8,
     "metadata": {},
     "output_type": "execute_result"
    }
   ],
   "source": [
    "iris['petal_width']"
   ]
  },
  {
   "cell_type": "markdown",
   "id": "1eeb726d",
   "metadata": {},
   "source": [
    "where we only consider the petal length, and"
   ]
  },
  {
   "cell_type": "code",
   "execution_count": 9,
   "id": "c15dcf77",
   "metadata": {},
   "outputs": [
    {
     "data": {
      "text/html": [
       "<div>\n",
       "<style scoped>\n",
       "    .dataframe tbody tr th:only-of-type {\n",
       "        vertical-align: middle;\n",
       "    }\n",
       "\n",
       "    .dataframe tbody tr th {\n",
       "        vertical-align: top;\n",
       "    }\n",
       "\n",
       "    .dataframe thead th {\n",
       "        text-align: right;\n",
       "    }\n",
       "</style>\n",
       "<table border=\"1\" class=\"dataframe\">\n",
       "  <thead>\n",
       "    <tr style=\"text-align: right;\">\n",
       "      <th></th>\n",
       "      <th>sepal_length</th>\n",
       "      <th>sepal_width</th>\n",
       "      <th>petal_length</th>\n",
       "      <th>petal_width</th>\n",
       "      <th>species</th>\n",
       "    </tr>\n",
       "  </thead>\n",
       "  <tbody>\n",
       "    <tr>\n",
       "      <th>4</th>\n",
       "      <td>5.0</td>\n",
       "      <td>3.6</td>\n",
       "      <td>1.4</td>\n",
       "      <td>0.2</td>\n",
       "      <td>setosa</td>\n",
       "    </tr>\n",
       "    <tr>\n",
       "      <th>7</th>\n",
       "      <td>5.0</td>\n",
       "      <td>3.4</td>\n",
       "      <td>1.5</td>\n",
       "      <td>0.2</td>\n",
       "      <td>setosa</td>\n",
       "    </tr>\n",
       "    <tr>\n",
       "      <th>25</th>\n",
       "      <td>5.0</td>\n",
       "      <td>3.0</td>\n",
       "      <td>1.6</td>\n",
       "      <td>0.2</td>\n",
       "      <td>setosa</td>\n",
       "    </tr>\n",
       "    <tr>\n",
       "      <th>26</th>\n",
       "      <td>5.0</td>\n",
       "      <td>3.4</td>\n",
       "      <td>1.6</td>\n",
       "      <td>0.4</td>\n",
       "      <td>setosa</td>\n",
       "    </tr>\n",
       "    <tr>\n",
       "      <th>35</th>\n",
       "      <td>5.0</td>\n",
       "      <td>3.2</td>\n",
       "      <td>1.2</td>\n",
       "      <td>0.2</td>\n",
       "      <td>setosa</td>\n",
       "    </tr>\n",
       "    <tr>\n",
       "      <th>40</th>\n",
       "      <td>5.0</td>\n",
       "      <td>3.5</td>\n",
       "      <td>1.3</td>\n",
       "      <td>0.3</td>\n",
       "      <td>setosa</td>\n",
       "    </tr>\n",
       "    <tr>\n",
       "      <th>43</th>\n",
       "      <td>5.0</td>\n",
       "      <td>3.5</td>\n",
       "      <td>1.6</td>\n",
       "      <td>0.6</td>\n",
       "      <td>setosa</td>\n",
       "    </tr>\n",
       "    <tr>\n",
       "      <th>49</th>\n",
       "      <td>5.0</td>\n",
       "      <td>3.3</td>\n",
       "      <td>1.4</td>\n",
       "      <td>0.2</td>\n",
       "      <td>setosa</td>\n",
       "    </tr>\n",
       "    <tr>\n",
       "      <th>60</th>\n",
       "      <td>5.0</td>\n",
       "      <td>2.0</td>\n",
       "      <td>3.5</td>\n",
       "      <td>1.0</td>\n",
       "      <td>versicolor</td>\n",
       "    </tr>\n",
       "    <tr>\n",
       "      <th>93</th>\n",
       "      <td>5.0</td>\n",
       "      <td>2.3</td>\n",
       "      <td>3.3</td>\n",
       "      <td>1.0</td>\n",
       "      <td>versicolor</td>\n",
       "    </tr>\n",
       "  </tbody>\n",
       "</table>\n",
       "</div>"
      ],
      "text/plain": [
       "    sepal_length  sepal_width  petal_length  petal_width     species\n",
       "4            5.0          3.6           1.4          0.2      setosa\n",
       "7            5.0          3.4           1.5          0.2      setosa\n",
       "25           5.0          3.0           1.6          0.2      setosa\n",
       "26           5.0          3.4           1.6          0.4      setosa\n",
       "35           5.0          3.2           1.2          0.2      setosa\n",
       "40           5.0          3.5           1.3          0.3      setosa\n",
       "43           5.0          3.5           1.6          0.6      setosa\n",
       "49           5.0          3.3           1.4          0.2      setosa\n",
       "60           5.0          2.0           3.5          1.0  versicolor\n",
       "93           5.0          2.3           3.3          1.0  versicolor"
      ]
     },
     "execution_count": 9,
     "metadata": {},
     "output_type": "execute_result"
    }
   ],
   "source": [
    "iris[iris['sepal_length'] == 5]"
   ]
  },
  {
   "cell_type": "markdown",
   "id": "fcad302c",
   "metadata": {},
   "source": [
    "where we only consider sepal legnths equal to 5.\n",
    "\n",
    "More complex filters can be applied (such as >, < or any arbitrary boolean function), but we want to explain the *semantics* (what's really going on) to help explain Pandas behaviour and help you reason a little better about how to use Pandas.\n",
    "\n",
    "### So, what is a mask anyways?\n",
    "As I said before, a mask is a boolean series. What does this mean though?\n",
    "\n",
    "Let's take the second code example. The inner section (`iris['sepal_length'] == 5`) was the mask. This become a bit clearer when we run it on its own:"
   ]
  },
  {
   "cell_type": "code",
   "execution_count": 10,
   "id": "5446b393",
   "metadata": {},
   "outputs": [
    {
     "data": {
      "text/plain": [
       "0      False\n",
       "1      False\n",
       "2      False\n",
       "3      False\n",
       "4       True\n",
       "       ...  \n",
       "145    False\n",
       "146    False\n",
       "147    False\n",
       "148    False\n",
       "149    False\n",
       "Name: sepal_length, Length: 150, dtype: bool"
      ]
     },
     "execution_count": 10,
     "metadata": {},
     "output_type": "execute_result"
    }
   ],
   "source": [
    "iris['sepal_length'] == 5"
   ]
  },
  {
   "cell_type": "markdown",
   "id": "2d86b665",
   "metadata": {},
   "source": [
    "We can see we've produced a boolean series. When we apply this to a Pandas dataframe in square brackets, the dataframe compares the indexes and selects only the rows where the corresponding index in the mask is true. For example, we can see row 4 in the mask is true, and row 4 was returned in our initial selection.\n",
    "\n",
    "## Masks with a variable\n",
    "However, this doesn't explain the behaviour of `iris['petal_width']`. We can see when we run the below, it just returns a string."
   ]
  },
  {
   "cell_type": "code",
   "execution_count": 11,
   "id": "99019fb0",
   "metadata": {},
   "outputs": [
    {
     "data": {
      "text/plain": [
       "'petal_width'"
      ]
     },
     "execution_count": 11,
     "metadata": {},
     "output_type": "execute_result"
    }
   ],
   "source": [
    "'petal_width'"
   ]
  },
  {
   "cell_type": "markdown",
   "id": "71ef4409",
   "metadata": {},
   "source": [
    "What's going on???\n",
    "\n",
    "From the [docs](https://pandas.pydata.org/docs/user_guide/dsintro.html#column-selection-addition-deletion), you can treat a DataFrame as a 'dict of like-indexed Series objects'. \n",
    "\n",
    "This is a lot of terminology to use at once. Let's break it down a bit:\n",
    "\n",
    "- A dict is a Python data structure. It associates *keys* with *values*, and can be thought of as a mapping. In Python, to retrieve value `v` associated with key `k` from dict `d`, we do `d[k]`. This implies `d[k] == v` always.\n",
    "- Like indexed means that the indexes (numbers on the right identifying a row) are the same for each column. Since we're going to treat the columns as separate series (spoilers for the next bullet point), it is helpful to bear in mind that the index between columns remains consistent.\n",
    "- Series objects have previously been talked about, but they can be thought of as a sequence of Python data.\n",
    "\n",
    "\n",
    "As such, as with dicts, we can retrieve specific columns through passing column names as keys into the DataFrame. For example"
   ]
  },
  {
   "cell_type": "code",
   "execution_count": 12,
   "id": "0c0d1a43",
   "metadata": {},
   "outputs": [
    {
     "data": {
      "text/plain": [
       "0      5.1\n",
       "1      4.9\n",
       "2      4.7\n",
       "3      4.6\n",
       "4      5.0\n",
       "      ... \n",
       "145    6.7\n",
       "146    6.3\n",
       "147    6.5\n",
       "148    6.2\n",
       "149    5.9\n",
       "Name: sepal_length, Length: 150, dtype: float64"
      ]
     },
     "execution_count": 12,
     "metadata": {},
     "output_type": "execute_result"
    }
   ],
   "source": [
    "iris['sepal_length']"
   ]
  },
  {
   "cell_type": "markdown",
   "id": "98ed01ba",
   "metadata": {},
   "source": [
    "## Concluding remarks\n",
    "There are none. Please send feedback to michael.hallam3@gmail.com\n",
    "\n",
    "(c) Michael Hallam 2022"
   ]
  }
 ],
 "metadata": {
  "kernelspec": {
   "display_name": "Python 3 (ipykernel)",
   "language": "python",
   "name": "python3"
  },
  "language_info": {
   "codemirror_mode": {
    "name": "ipython",
    "version": 3
   },
   "file_extension": ".py",
   "mimetype": "text/x-python",
   "name": "python",
   "nbconvert_exporter": "python",
   "pygments_lexer": "ipython3",
   "version": "3.8.10"
  }
 },
 "nbformat": 4,
 "nbformat_minor": 5
}
